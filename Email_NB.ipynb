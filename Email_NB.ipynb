{
 "cells": [
  {
   "cell_type": "markdown",
   "id": "a05690c7",
   "metadata": {
    "toc": true
   },
   "source": [
    "<h1>Table of Contents<span class=\"tocSkip\"></span></h1>\n",
    "<div class=\"toc\"><ul class=\"toc-item\"><li><span><a href=\"#Import\" data-toc-modified-id=\"Import-1\"><span class=\"toc-item-num\">1&nbsp;&nbsp;</span>Import</a></span><ul class=\"toc-item\"><li><span><a href=\"#email_preprocess.py\" data-toc-modified-id=\"email_preprocess.py-1.1\"><span class=\"toc-item-num\">1.1&nbsp;&nbsp;</span>email_preprocess.py</a></span></li></ul></li></ul></div>"
   ]
  },
  {
   "cell_type": "markdown",
   "id": "9f744729",
   "metadata": {},
   "source": [
    "# Email_Naive Bayes"
   ]
  },
  {
   "cell_type": "markdown",
   "id": "8912b1f6",
   "metadata": {},
   "source": [
    "## Import "
   ]
  },
  {
   "cell_type": "code",
   "execution_count": 39,
   "id": "853d08dc",
   "metadata": {},
   "outputs": [
    {
     "data": {
      "text/plain": [
       "'/Users/yejiseoung/Dropbox/My Mac (Yejis-MacBook-Pro.local)/Documents/Projects/Email_NB'"
      ]
     },
     "execution_count": 39,
     "metadata": {},
     "output_type": "execute_result"
    }
   ],
   "source": [
    "import numpy as np\n",
    "import pandas as pd\n",
    "import matplotlib.pyplot as plt\n",
    "import seaborn as sns\n",
    "%matplotlib inline\n",
    "\n",
    "import requests\n",
    "import pickle \n",
    "\n",
    "import scipy as sp\n",
    "import nltk\n",
    "\n",
    "import joblib\n",
    "\n",
    "from sklearn.model_selection import train_test_split\n",
    "from sklearn.feature_extraction.text import TfidfVectorizer\n",
    "from sklearn.feature_selection import SelectPercentile, f_classif\n",
    "\n",
    "from pathlib import Path\n",
    "import os\n",
    "\n",
    "os.getcwd()"
   ]
  },
  {
   "cell_type": "code",
   "execution_count": 2,
   "id": "16edeb62",
   "metadata": {},
   "outputs": [],
   "source": [
    "path = Path('/Users/yejiseoung/Dropbox/My Mac (Yejis-MacBook-Pro.local)/Documents/Projects/Email_NB/Data')"
   ]
  },
  {
   "cell_type": "markdown",
   "id": "e5c23bd7",
   "metadata": {},
   "source": [
    "### email_preprocess.py"
   ]
  },
  {
   "cell_type": "code",
   "execution_count": 37,
   "id": "7378e0da",
   "metadata": {},
   "outputs": [],
   "source": [
    "def preprocess(words_file = '/Users/yejiseoung/Dropbox/My Mac (Yejis-MacBook-Pro.local)/Documents/Projects/Email_NB/ud120-projects/tools/word_data.pkl', authors_file = '/Users/yejiseoung/Dropbox/My Mac (Yejis-MacBook-Pro.local)/Documents/Projects/Email_NB/ud120-projects/tools/email_authors.pkl'):\n",
    "    \"\"\"\n",
    "        This function takes a pre-made list of email texts (by default word_data.pkl)\n",
    "        and the corresponding authors (by default email_authors.pkl) \n",
    "        and performs a number of preprocessing steps:\n",
    "            -- splits into training/testing sets (10% testing)\n",
    "            -- vectorizes into tfidf matrix\n",
    "            -- selects/keeps most helpful features\n",
    "        \n",
    "        after this, the fueatres nad labels are put into numpy arrays, which play nice\n",
    "        with sklearn functions\n",
    "        \n",
    "        4 objects are returned:\n",
    "            -- training/testing features\n",
    "            -- training/testing labels\n",
    "    \"\"\"\n",
    "    \n",
    "    ### the words (features) and authors (labels), already largely preprocessed\n",
    "    ### this preprocessing will be repeated in the test learning mini-project\n",
    "    authors_file_handler = open(authors_file, 'rb')\n",
    "    authors = joblib.load(authors_file)\n",
    "    \n",
    "    \n",
    "    words_file_handler = open(words_file, 'rb')\n",
    "    word_data = joblib.load(words_file_handler)\n",
    "    \n",
    "    ### test_size is the percentage of events assigned to the test set\n",
    "    ### (remainder go into training)\n",
    "    features_train, features_test, labels_train, labels_test = train_test_split(word_data, authors, test_size=0.1, random_state=42)\n",
    "    \n",
    "    \n",
    "    ### text vectorization -- go from strings to lists of numbers\n",
    "    vectorizer = TfidfVectorizer(sublinear_tf=True, max_df=0.5, stop_words='english')\n",
    "    features_train_transformed = vectorizer.fit_transform(features_train)\n",
    "    features_test_transformed = vectorizer.transform(features_test)\n",
    "    \n",
    "    \n",
    "    ### feature selection, because text is super high dimensional and\n",
    "    ### can be really computationally chewy as a result\n",
    "    selector = SelectPercentile(f_classif, percentile=10)\n",
    "    selector.fit(features_train_transformed, labels_train)\n",
    "    features_train_transformed = selector.transform(features_train_transformed).toarray()\n",
    "    features_test_transformed = selector.transform(features_test_transformed).toarray()\n",
    "    \n",
    "    \n",
    "    ### info on the data\n",
    "    print(\"No. of Chris training emails : \", sum(labels_train))\n",
    "    print(\"No. of Sara training emails : \", sum(labels_train)-sum(labels_train))\n",
    "    \n",
    "    return features_train_transformed, features_test_transformed, labels_train, labels_test"
   ]
  },
  {
   "cell_type": "code",
   "execution_count": 38,
   "id": "33b82441",
   "metadata": {},
   "outputs": [
    {
     "name": "stdout",
     "output_type": "stream",
     "text": [
      "No. of Chris training emails :  7936\n",
      "No. of Sara training emails :  0\n"
     ]
    }
   ],
   "source": [
    "features_train, features_test, labels_train, labels_test = preprocess()"
   ]
  },
  {
   "cell_type": "code",
   "execution_count": 43,
   "id": "b2c31d1c",
   "metadata": {
    "scrolled": true
   },
   "outputs": [
    {
     "name": "stdout",
     "output_type": "stream",
     "text": [
      "No. of Chris training emails :  7936\n",
      "No. of Sara training emails :  0\n",
      "training time:  0.751 s\n",
      "predicting time:  0.035 s\n",
      "accuracy: 0.9732650739476678\n",
      "scoring time:  0.001 s\n"
     ]
    }
   ],
   "source": [
    "#!/usr/bin/python3\n",
    "\n",
    "\"\"\" \n",
    "    This is the code to accompany the Lesson 1 (Naive Bayes) mini-project. \n",
    "    Use a Naive Bayes Classifier to identify emails by their authors\n",
    "    \n",
    "    authors and labels:\n",
    "    Sara has label 0\n",
    "    Chris has label 1\n",
    "\"\"\"\n",
    "    \n",
    "#import sys\n",
    "from time import time\n",
    "#sys.path.append(\"../tools/\")\n",
    "#from email_preprocess import preprocess\n",
    "\n",
    "\n",
    "### Split train and test dataset\n",
    "X_train, X_test, y_train, y_test = preprocess()\n",
    "\n",
    "\n",
    "from sklearn.naive_bayes import GaussianNB\n",
    "clf = GaussianNB()\n",
    "t0 = time()\n",
    "clf.fit(X_train, y_train)\n",
    "print(\"training time: \", round(time()-t0, 3), \"s\")\n",
    "\n",
    "t1 = time()\n",
    "pred = clf.predict(X_test)\n",
    "print(\"predicting time: \", round(time()-t1, 3), \"s\")\n",
    "\n",
    "from sklearn.metrics import accuracy_score\n",
    "t2 = time()\n",
    "print(\"accuracy:\", accuracy_score(pred, y_test))\n",
    "print(\"scoring time: \", round(time()-t2, 3), \"s\")\n",
    "\n"
   ]
  },
  {
   "cell_type": "code",
   "execution_count": null,
   "id": "4fb549ab",
   "metadata": {},
   "outputs": [],
   "source": []
  }
 ],
 "metadata": {
  "kernelspec": {
   "display_name": "Python 3",
   "language": "python",
   "name": "python3"
  },
  "language_info": {
   "codemirror_mode": {
    "name": "ipython",
    "version": 3
   },
   "file_extension": ".py",
   "mimetype": "text/x-python",
   "name": "python",
   "nbconvert_exporter": "python",
   "pygments_lexer": "ipython3",
   "version": "3.8.8"
  },
  "toc": {
   "base_numbering": 1,
   "nav_menu": {},
   "number_sections": true,
   "sideBar": true,
   "skip_h1_title": true,
   "title_cell": "Table of Contents",
   "title_sidebar": "Contents",
   "toc_cell": true,
   "toc_position": {
    "height": "calc(100% - 180px)",
    "left": "10px",
    "top": "150px",
    "width": "209.59375px"
   },
   "toc_section_display": true,
   "toc_window_display": false
  },
  "varInspector": {
   "cols": {
    "lenName": 16,
    "lenType": 16,
    "lenVar": 40
   },
   "kernels_config": {
    "python": {
     "delete_cmd_postfix": "",
     "delete_cmd_prefix": "del ",
     "library": "var_list.py",
     "varRefreshCmd": "print(var_dic_list())"
    },
    "r": {
     "delete_cmd_postfix": ") ",
     "delete_cmd_prefix": "rm(",
     "library": "var_list.r",
     "varRefreshCmd": "cat(var_dic_list()) "
    }
   },
   "types_to_exclude": [
    "module",
    "function",
    "builtin_function_or_method",
    "instance",
    "_Feature"
   ],
   "window_display": false
  }
 },
 "nbformat": 4,
 "nbformat_minor": 5
}
